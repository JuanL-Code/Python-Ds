{
 "cells": [
  {
   "cell_type": "markdown",
   "id": "48c5db8d",
   "metadata": {},
   "source": [
    "Necesitamos todos los datos?\n",
    "Tenemos prisa?\n",
    "Como tenemos estructurados los datos?\n",
    "BD estatica o dinamica // Recibiremos nuevos datos a lo largo del proyecto?\n",
    "\n",
    "Si Realmente se necesita BIGD\n",
    "\n",
    "**Memoria Ram\n",
    "**Memoria Disk\n",
    "**Velocidad procesadores\n",
    "\n"
   ]
  },
  {
   "cell_type": "code",
   "execution_count": 3,
   "id": "ff38bd94",
   "metadata": {},
   "outputs": [
    {
     "name": "stdout",
     "output_type": "stream",
     "text": [
      "0.5134060382843018\n"
     ]
    }
   ],
   "source": [
    "#Evaluar eficiencia de codigo\n",
    "import time\n",
    "\n",
    "start = time.time()\n",
    "\n",
    "#code\n",
    "time.sleep(0.5)\n",
    "\n",
    "end = time.time()\n",
    "\n",
    "print(end-start)"
   ]
  },
  {
   "cell_type": "code",
   "execution_count": 5,
   "id": "81bbd1b5",
   "metadata": {},
   "outputs": [
    {
     "name": "stdout",
     "output_type": "stream",
     "text": [
      "0:00:01\n"
     ]
    }
   ],
   "source": [
    "from datetime import timedelta\n",
    "\n",
    "start =time.monotonic()\n",
    "\n",
    "#code\n",
    "\n",
    "time.sleep(1)\n",
    "\n",
    "#end code\n",
    "\n",
    "end = time.monotonic()\n",
    "\n",
    "print(timedelta(seconds = end - start))"
   ]
  },
  {
   "cell_type": "code",
   "execution_count": 7,
   "id": "00950a21",
   "metadata": {},
   "outputs": [
    {
     "name": "stdout",
     "output_type": "stream",
     "text": [
      "False\n"
     ]
    }
   ],
   "source": [
    "start = time.time()\n",
    "\n",
    "#code\n",
    "time.sleep(0.5)\n",
    "\n",
    "end = time.time()\n",
    "\n",
    "start2 = time.time()\n",
    "\n",
    "time.sleep(0.501)\n",
    "\n",
    "end2 = time.time()\n",
    "\n",
    "#El primero es mas rapido que el segundo, podemos adaptar entonces algoritmos\n",
    "print(end-start > end2 -start2)"
   ]
  },
  {
   "cell_type": "code",
   "execution_count": null,
   "id": "8c7fdd47",
   "metadata": {},
   "outputs": [],
   "source": []
  }
 ],
 "metadata": {
  "kernelspec": {
   "display_name": "Python 3",
   "language": "python",
   "name": "python3"
  },
  "language_info": {
   "codemirror_mode": {
    "name": "ipython",
    "version": 3
   },
   "file_extension": ".py",
   "mimetype": "text/x-python",
   "name": "python",
   "nbconvert_exporter": "python",
   "pygments_lexer": "ipython3",
   "version": "3.8.8"
  }
 },
 "nbformat": 4,
 "nbformat_minor": 5
}
