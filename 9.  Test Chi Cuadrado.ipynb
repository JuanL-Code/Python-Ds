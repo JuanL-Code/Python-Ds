{
 "cells": [
  {
   "cell_type": "code",
   "execution_count": 1,
   "id": "f5f0911b",
   "metadata": {},
   "outputs": [],
   "source": [
    "import pandas as pd\n",
    "import numpy as np\n",
    "df = pd.read_csv('base_datos_2008.csv.bz2', nrows=100000)"
   ]
  },
  {
   "cell_type": "code",
   "execution_count": 13,
   "id": "d71f4e57",
   "metadata": {},
   "outputs": [],
   "source": [
    "#Cuantificar distancias y afirmar si hay relacion\n",
    "#Afirmaciones globales ede correlaciones\n",
    "\n",
    "#Cuando replique el codigo sera la misma random\n",
    "np.random.seed(0)\n",
    "#Subset con origenes listados\n",
    "df = df[df[\"Origin\"].isin([\"HOU\", \"ATL\", \"IND\"])]\n",
    "#Reordenar el db con solo 10000 filas\n",
    "df = df.sample(frac=1)\n",
    "df = df[0:10000]"
   ]
  },
  {
   "cell_type": "code",
   "execution_count": 14,
   "id": "8b9c3371",
   "metadata": {},
   "outputs": [],
   "source": [
    "#Variable nueva igual a true cuando el valor es mayor a 30, un gran retraso\n",
    "df[\"BigDelay\"] = df[\"ArrDelay\"] > 30\n",
    "\n",
    "#Tabla de contingencia seleccionamos dos columnas, margins tambien se guardan\n",
    "\n",
    "observados = pd.crosstab(index=df[\"BigDelay\"],columns=df[\"Origin\"], margins=True)"
   ]
  },
  {
   "cell_type": "code",
   "execution_count": 15,
   "id": "c86f6813",
   "metadata": {},
   "outputs": [
    {
     "data": {
      "text/html": [
       "<div>\n",
       "<style scoped>\n",
       "    .dataframe tbody tr th:only-of-type {\n",
       "        vertical-align: middle;\n",
       "    }\n",
       "\n",
       "    .dataframe tbody tr th {\n",
       "        vertical-align: top;\n",
       "    }\n",
       "\n",
       "    .dataframe thead th {\n",
       "        text-align: right;\n",
       "    }\n",
       "</style>\n",
       "<table border=\"1\" class=\"dataframe\">\n",
       "  <thead>\n",
       "    <tr style=\"text-align: right;\">\n",
       "      <th>Origin</th>\n",
       "      <th>HOU</th>\n",
       "      <th>IND</th>\n",
       "      <th>All</th>\n",
       "    </tr>\n",
       "    <tr>\n",
       "      <th>BigDelay</th>\n",
       "      <th></th>\n",
       "      <th></th>\n",
       "      <th></th>\n",
       "    </tr>\n",
       "  </thead>\n",
       "  <tbody>\n",
       "    <tr>\n",
       "      <th>False</th>\n",
       "      <td>807</td>\n",
       "      <td>110</td>\n",
       "      <td>917</td>\n",
       "    </tr>\n",
       "    <tr>\n",
       "      <th>True</th>\n",
       "      <td>78</td>\n",
       "      <td>5</td>\n",
       "      <td>83</td>\n",
       "    </tr>\n",
       "    <tr>\n",
       "      <th>All</th>\n",
       "      <td>885</td>\n",
       "      <td>115</td>\n",
       "      <td>1000</td>\n",
       "    </tr>\n",
       "  </tbody>\n",
       "</table>\n",
       "</div>"
      ],
      "text/plain": [
       "Origin    HOU  IND   All\n",
       "BigDelay                \n",
       "False     807  110   917\n",
       "True       78    5    83\n",
       "All       885  115  1000"
      ]
     },
     "execution_count": 15,
     "metadata": {},
     "output_type": "execute_result"
    }
   ],
   "source": [
    "#N = 1000\n",
    "observados"
   ]
  },
  {
   "cell_type": "code",
   "execution_count": 16,
   "id": "7748daf7",
   "metadata": {},
   "outputs": [],
   "source": [
    "#Paquete para hacer el test chi cuadrado\n",
    "from scipy.stats import chi2_contingency"
   ]
  },
  {
   "cell_type": "code",
   "execution_count": 17,
   "id": "f796afe8",
   "metadata": {},
   "outputs": [],
   "source": [
    "test = chi2_contingency(observados)"
   ]
  },
  {
   "cell_type": "code",
   "execution_count": 18,
   "id": "3879f9fa",
   "metadata": {},
   "outputs": [
    {
     "data": {
      "text/plain": [
       "(2.66673116283148,\n",
       " 0.6150486549794081,\n",
       " 4,\n",
       " array([[ 811.545,  105.455,  917.   ],\n",
       "        [  73.455,    9.545,   83.   ],\n",
       "        [ 885.   ,  115.   , 1000.   ]]))"
      ]
     },
     "execution_count": 18,
     "metadata": {},
     "output_type": "execute_result"
    }
   ],
   "source": [
    "#el objeto test\n",
    "#1er valor: suma estadistica\n",
    "#2do P valor: Medida toma decisiones base a criterio\n",
    "test"
   ]
  },
  {
   "cell_type": "code",
   "execution_count": 20,
   "id": "bf787abc",
   "metadata": {},
   "outputs": [],
   "source": [
    "esperados=pd.DataFrame(test[3])"
   ]
  },
  {
   "cell_type": "code",
   "execution_count": 21,
   "id": "994f8040",
   "metadata": {},
   "outputs": [
    {
     "data": {
      "text/html": [
       "<div>\n",
       "<style scoped>\n",
       "    .dataframe tbody tr th:only-of-type {\n",
       "        vertical-align: middle;\n",
       "    }\n",
       "\n",
       "    .dataframe tbody tr th {\n",
       "        vertical-align: top;\n",
       "    }\n",
       "\n",
       "    .dataframe thead th {\n",
       "        text-align: right;\n",
       "    }\n",
       "</style>\n",
       "<table border=\"1\" class=\"dataframe\">\n",
       "  <thead>\n",
       "    <tr style=\"text-align: right;\">\n",
       "      <th></th>\n",
       "      <th>0</th>\n",
       "      <th>1</th>\n",
       "      <th>2</th>\n",
       "    </tr>\n",
       "  </thead>\n",
       "  <tbody>\n",
       "    <tr>\n",
       "      <th>0</th>\n",
       "      <td>811.545</td>\n",
       "      <td>105.455</td>\n",
       "      <td>917.0</td>\n",
       "    </tr>\n",
       "    <tr>\n",
       "      <th>1</th>\n",
       "      <td>73.455</td>\n",
       "      <td>9.545</td>\n",
       "      <td>83.0</td>\n",
       "    </tr>\n",
       "    <tr>\n",
       "      <th>2</th>\n",
       "      <td>885.000</td>\n",
       "      <td>115.000</td>\n",
       "      <td>1000.0</td>\n",
       "    </tr>\n",
       "  </tbody>\n",
       "</table>\n",
       "</div>"
      ],
      "text/plain": [
       "         0        1       2\n",
       "0  811.545  105.455   917.0\n",
       "1   73.455    9.545    83.0\n",
       "2  885.000  115.000  1000.0"
      ]
     },
     "execution_count": 21,
     "metadata": {},
     "output_type": "execute_result"
    }
   ],
   "source": [
    "#Teoricos, aproximacion para comparar\n",
    "esperados"
   ]
  },
  {
   "cell_type": "code",
   "execution_count": 22,
   "id": "0775ac28",
   "metadata": {},
   "outputs": [],
   "source": [
    "#Valores esperados relativos\n",
    "esperados_rel = round(esperados.apply(lambda r:r/len(df) *100, axis=1), 2)\n"
   ]
  },
  {
   "cell_type": "code",
   "execution_count": 25,
   "id": "a33aafed",
   "metadata": {},
   "outputs": [],
   "source": [
    "#Valores observados relativos\n",
    "observados_rel = round(observados.apply(lambda r:r/len(df) *100, axis=1), 2)"
   ]
  },
  {
   "cell_type": "code",
   "execution_count": 26,
   "id": "72658d60",
   "metadata": {},
   "outputs": [
    {
     "data": {
      "text/html": [
       "<div>\n",
       "<style scoped>\n",
       "    .dataframe tbody tr th:only-of-type {\n",
       "        vertical-align: middle;\n",
       "    }\n",
       "\n",
       "    .dataframe tbody tr th {\n",
       "        vertical-align: top;\n",
       "    }\n",
       "\n",
       "    .dataframe thead th {\n",
       "        text-align: right;\n",
       "    }\n",
       "</style>\n",
       "<table border=\"1\" class=\"dataframe\">\n",
       "  <thead>\n",
       "    <tr style=\"text-align: right;\">\n",
       "      <th>Origin</th>\n",
       "      <th>HOU</th>\n",
       "      <th>IND</th>\n",
       "      <th>All</th>\n",
       "    </tr>\n",
       "    <tr>\n",
       "      <th>BigDelay</th>\n",
       "      <th></th>\n",
       "      <th></th>\n",
       "      <th></th>\n",
       "    </tr>\n",
       "  </thead>\n",
       "  <tbody>\n",
       "    <tr>\n",
       "      <th>False</th>\n",
       "      <td>80.7</td>\n",
       "      <td>11.0</td>\n",
       "      <td>91.7</td>\n",
       "    </tr>\n",
       "    <tr>\n",
       "      <th>True</th>\n",
       "      <td>7.8</td>\n",
       "      <td>0.5</td>\n",
       "      <td>8.3</td>\n",
       "    </tr>\n",
       "    <tr>\n",
       "      <th>All</th>\n",
       "      <td>88.5</td>\n",
       "      <td>11.5</td>\n",
       "      <td>100.0</td>\n",
       "    </tr>\n",
       "  </tbody>\n",
       "</table>\n",
       "</div>"
      ],
      "text/plain": [
       "Origin     HOU   IND    All\n",
       "BigDelay                   \n",
       "False     80.7  11.0   91.7\n",
       "True       7.8   0.5    8.3\n",
       "All       88.5  11.5  100.0"
      ]
     },
     "execution_count": 26,
     "metadata": {},
     "output_type": "execute_result"
    }
   ],
   "source": [
    "observados_rel"
   ]
  },
  {
   "cell_type": "code",
   "execution_count": 28,
   "id": "9371ac05",
   "metadata": {},
   "outputs": [
    {
     "data": {
      "text/html": [
       "<div>\n",
       "<style scoped>\n",
       "    .dataframe tbody tr th:only-of-type {\n",
       "        vertical-align: middle;\n",
       "    }\n",
       "\n",
       "    .dataframe tbody tr th {\n",
       "        vertical-align: top;\n",
       "    }\n",
       "\n",
       "    .dataframe thead th {\n",
       "        text-align: right;\n",
       "    }\n",
       "</style>\n",
       "<table border=\"1\" class=\"dataframe\">\n",
       "  <thead>\n",
       "    <tr style=\"text-align: right;\">\n",
       "      <th>Origin</th>\n",
       "      <th>HOU</th>\n",
       "      <th>IND</th>\n",
       "      <th>All</th>\n",
       "    </tr>\n",
       "    <tr>\n",
       "      <th>BigDelay</th>\n",
       "      <th></th>\n",
       "      <th></th>\n",
       "      <th></th>\n",
       "    </tr>\n",
       "  </thead>\n",
       "  <tbody>\n",
       "    <tr>\n",
       "      <th>False</th>\n",
       "      <td>80.7</td>\n",
       "      <td>11.0</td>\n",
       "      <td>91.7</td>\n",
       "    </tr>\n",
       "    <tr>\n",
       "      <th>True</th>\n",
       "      <td>7.8</td>\n",
       "      <td>0.5</td>\n",
       "      <td>8.3</td>\n",
       "    </tr>\n",
       "    <tr>\n",
       "      <th>All</th>\n",
       "      <td>88.5</td>\n",
       "      <td>11.5</td>\n",
       "      <td>100.0</td>\n",
       "    </tr>\n",
       "  </tbody>\n",
       "</table>\n",
       "</div>"
      ],
      "text/plain": [
       "Origin     HOU   IND    All\n",
       "BigDelay                   \n",
       "False     80.7  11.0   91.7\n",
       "True       7.8   0.5    8.3\n",
       "All       88.5  11.5  100.0"
      ]
     },
     "execution_count": 28,
     "metadata": {},
     "output_type": "execute_result"
    }
   ],
   "source": [
    "#Se deben mantener los margenes\n",
    "esperados_rel"
   ]
  },
  {
   "cell_type": "code",
   "execution_count": 30,
   "id": "91aed8de",
   "metadata": {},
   "outputs": [
    {
     "data": {
      "text/plain": [
       "0.6150486549794081"
      ]
     },
     "execution_count": 30,
     "metadata": {},
     "output_type": "execute_result"
    }
   ],
   "source": [
    "#0.6, muy por encima, no podemos afirmar relacion entre variables\n",
    "test[1]"
   ]
  },
  {
   "cell_type": "markdown",
   "id": "68a0acf3",
   "metadata": {},
   "source": [
    "Resumen\n",
    "Si el p-valor < 0.05, hay diferencias significativas, hay relacion entre variables\n",
    "\n",
    "Si el p-valor > 0.05, no hay diferencias significativas, no hay relacion entre variables"
   ]
  }
 ],
 "metadata": {
  "kernelspec": {
   "display_name": "Python 3",
   "language": "python",
   "name": "python3"
  },
  "language_info": {
   "codemirror_mode": {
    "name": "ipython",
    "version": 3
   },
   "file_extension": ".py",
   "mimetype": "text/x-python",
   "name": "python",
   "nbconvert_exporter": "python",
   "pygments_lexer": "ipython3",
   "version": "3.8.8"
  }
 },
 "nbformat": 4,
 "nbformat_minor": 5
}
