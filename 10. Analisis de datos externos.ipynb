{
 "cells": [
  {
   "cell_type": "code",
   "execution_count": 1,
   "id": "e6a7768f",
   "metadata": {},
   "outputs": [],
   "source": [
    "import pandas as pd\n",
    "import numpy as np\n",
    "df = pd.read_csv('base_datos_2008.csv.bz2', nrows=100000)"
   ]
  },
  {
   "cell_type": "code",
   "execution_count": 3,
   "id": "e286971e",
   "metadata": {},
   "outputs": [],
   "source": [
    "#outliders\n",
    "#seleccionamos 100000 filas\n",
    "\n",
    "x=df[\"ArrDelay\"].dropna()\n"
   ]
  },
  {
   "cell_type": "code",
   "execution_count": 4,
   "id": "5fde8203",
   "metadata": {},
   "outputs": [],
   "source": [
    "Q1 = np.percentile(x,25)\n",
    "Q3 = np.percentile(x,75)\n",
    "\n",
    "#Rango intercuartilico\n",
    "rangointer = Q3 - Q1"
   ]
  },
  {
   "cell_type": "code",
   "execution_count": 7,
   "id": "7634161d",
   "metadata": {},
   "outputs": [],
   "source": [
    "umbralSuperior = Q3 + 1.5*rangointer\n",
    "umbralInferior = Q1 - 1.5*rangointer"
   ]
  },
  {
   "cell_type": "code",
   "execution_count": 8,
   "id": "18930306",
   "metadata": {},
   "outputs": [
    {
     "data": {
      "text/plain": [
       "38.5"
      ]
     },
     "execution_count": 8,
     "metadata": {},
     "output_type": "execute_result"
    }
   ],
   "source": [
    "#Cualquier valor por encima de 38.5 sera un valor extremo\n",
    "umbralSuperior"
   ]
  },
  {
   "cell_type": "code",
   "execution_count": 9,
   "id": "1fdef9ee",
   "metadata": {},
   "outputs": [
    {
     "data": {
      "text/plain": [
       "-37.5"
      ]
     },
     "execution_count": 9,
     "metadata": {},
     "output_type": "execute_result"
    }
   ],
   "source": [
    "umbralInferior"
   ]
  },
  {
   "cell_type": "code",
   "execution_count": 10,
   "id": "0b6cc86c",
   "metadata": {},
   "outputs": [
    {
     "data": {
      "text/plain": [
       "0.08387201361729721"
      ]
     },
     "execution_count": 10,
     "metadata": {},
     "output_type": "execute_result"
    }
   ],
   "source": [
    "#Comprobar cantidad de casos\n",
    "np.mean(x>umbralSuperior)"
   ]
  },
  {
   "cell_type": "code",
   "execution_count": 11,
   "id": "9b2846b2",
   "metadata": {},
   "outputs": [
    {
     "data": {
      "text/plain": [
       "0.0019048005025431114"
      ]
     },
     "execution_count": 11,
     "metadata": {},
     "output_type": "execute_result"
    }
   ],
   "source": [
    "np.mean(x<umbralInferior)"
   ]
  },
  {
   "cell_type": "code",
   "execution_count": 12,
   "id": "f4723a13",
   "metadata": {},
   "outputs": [],
   "source": [
    "from sklearn.covariance import EllipticEnvelope"
   ]
  },
  {
   "cell_type": "code",
   "execution_count": 14,
   "id": "41b776de",
   "metadata": {},
   "outputs": [],
   "source": [
    "#Modelo que selecciona el 1% mas lejanos de nuestros datos\n",
    "outliers = EllipticEnvelope(contamination = .01)"
   ]
  },
  {
   "cell_type": "code",
   "execution_count": 17,
   "id": "47ee9934",
   "metadata": {},
   "outputs": [],
   "source": [
    "var_list = [\"DepDelay\", \"TaxiIn\", \"TaxiOut\", \"CarrierDelay\", \"WeatherDelay\", \"NASDelay\", \"SecurityDelay\", \"LateAircraftDelay\" ]"
   ]
  },
  {
   "cell_type": "code",
   "execution_count": 18,
   "id": "b4f428b4",
   "metadata": {},
   "outputs": [],
   "source": [
    "x = np.array(df.loc[:,var_list].dropna())"
   ]
  },
  {
   "cell_type": "code",
   "execution_count": 19,
   "id": "fac5f2e1",
   "metadata": {},
   "outputs": [
    {
     "data": {
      "text/plain": [
       "EllipticEnvelope(contamination=0.01)"
      ]
     },
     "execution_count": 19,
     "metadata": {},
     "output_type": "execute_result"
    }
   ],
   "source": [
    "outliers.fit(x)"
   ]
  },
  {
   "cell_type": "code",
   "execution_count": 20,
   "id": "8174be4a",
   "metadata": {},
   "outputs": [],
   "source": [
    "pred = outliers.predict(x)"
   ]
  },
  {
   "cell_type": "code",
   "execution_count": 21,
   "id": "249a140a",
   "metadata": {},
   "outputs": [
    {
     "data": {
      "text/plain": [
       "array([1, 1, 1, ..., 1, 1, 1])"
      ]
     },
     "execution_count": 21,
     "metadata": {},
     "output_type": "execute_result"
    }
   ],
   "source": [
    "pred"
   ]
  },
  {
   "cell_type": "code",
   "execution_count": 22,
   "id": "9e961684",
   "metadata": {},
   "outputs": [],
   "source": [
    "#Detectar -1\n",
    "elips_outliers = np.where(pred == -1)[0]"
   ]
  },
  {
   "cell_type": "code",
   "execution_count": 24,
   "id": "64e5a4b2",
   "metadata": {},
   "outputs": [
    {
     "data": {
      "text/plain": [
       "array([  444,  1161,  1188,  1191,  1412,  1418,  1503,  1634,  1911,\n",
       "        1914,  2005,  2082,  2120,  2123,  2145,  2539,  2612,  2613,\n",
       "        2725,  2771,  2937,  3120,  3589,  4146,  4265,  4430,  4437,\n",
       "        4488,  4512,  4621,  4676,  4725,  5772,  5996,  5997,  6329,\n",
       "        6358,  6515,  7245,  7257,  7460,  7480,  7481,  7620,  7698,\n",
       "        7701,  7702,  7703,  7707,  7715,  8098,  8130,  8267,  8294,\n",
       "        8298,  8327,  8484,  8566,  8683,  8691,  8865,  8993,  9922,\n",
       "       10216, 10250, 10280, 10469, 10618, 10681, 10720, 10910, 11021,\n",
       "       11231, 11237, 11242, 11316, 11955, 12085, 12088, 12240, 12452,\n",
       "       12513, 12607, 12700, 12905, 12927, 12934, 13275, 13276, 13278,\n",
       "       14259, 14282, 14285, 14297, 14318, 14358, 14367, 14510, 14544,\n",
       "       14557, 14558, 14647, 14658, 14785, 14789, 14792, 14831, 14858,\n",
       "       14870, 14871, 14880, 14881, 14940, 14945, 14946, 14947, 14948,\n",
       "       14988, 15008, 15009, 15029, 15086, 15150, 15192, 15195, 15196,\n",
       "       15197, 15202, 15295, 15352, 15372, 15379, 15385, 15393, 15412,\n",
       "       15434, 15438, 15439, 15540, 15566, 15596, 15598, 16069, 16274,\n",
       "       16287, 16294, 16497, 16598, 16738, 16740, 16742, 16788, 16805,\n",
       "       16943, 17080, 17099, 17100, 17119, 17175, 17230, 17260, 17261,\n",
       "       17262, 17297, 17387, 17388, 17484, 17486, 17535, 17545, 17732,\n",
       "       17770, 17775, 17776, 17846, 17852, 17879, 17958, 17995, 18082,\n",
       "       18129, 18228, 18229, 18238, 18315, 18496, 18524, 18530, 18739,\n",
       "       18803, 18819, 18956, 18995, 19052, 19272, 19587, 19613],\n",
       "      dtype=int64)"
      ]
     },
     "execution_count": 24,
     "metadata": {},
     "output_type": "execute_result"
    }
   ],
   "source": [
    "#Index de todos los lejanos\n",
    "elips_outliers"
   ]
  }
 ],
 "metadata": {
  "kernelspec": {
   "display_name": "Python 3",
   "language": "python",
   "name": "python3"
  },
  "language_info": {
   "codemirror_mode": {
    "name": "ipython",
    "version": 3
   },
   "file_extension": ".py",
   "mimetype": "text/x-python",
   "name": "python",
   "nbconvert_exporter": "python",
   "pygments_lexer": "ipython3",
   "version": "3.8.8"
  }
 },
 "nbformat": 4,
 "nbformat_minor": 5
}
